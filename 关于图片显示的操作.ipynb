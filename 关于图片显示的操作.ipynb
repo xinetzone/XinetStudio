{
 "cells": [
  {
   "cell_type": "code",
   "execution_count": 2,
   "metadata": {
    "ExecuteTime": {
     "end_time": "2018-02-01T06:27:04.970604Z",
     "start_time": "2018-02-01T06:27:04.967593Z"
    }
   },
   "outputs": [],
   "source": [
    "url = 'https://github.com/xinetzone/XinetStudio/blob/master/gluon-tutorials-zh/img/'\n",
    "url1 = 'https://nbviewer.jupyter.org/github/xinetzone/XinetStudio/blob/master/gluon-tutorials-zh/img/'"
   ]
  },
  {
   "cell_type": "markdown",
   "metadata": {},
   "source": [
    "# 示例\n",
    "\n",
    "如果图片地址为：`https://github.com/xinetzone/XinetStudio/blob/master/gluon-tutorials-zh/img/cat-cartoon2.png`，那么只需将其改为 `https://nbviewer.jupyter.org/github/xinetzone/XinetStudio/blob/master/gluon-tutorials-zh/img/cat-cartoon2.png`，并且输入命令 `![](https://nbviewer.jupyter.org/github/xinetzone/XinetStudio/blob/master/gluon-tutorials-zh/img/cat-cartoon2.png)`\n",
    "即可正常显示图片：\n",
    "![](https://nbviewer.jupyter.org/github/xinetzone/XinetStudio/blob/master/gluon-tutorials-zh/img/cat-cartoon2.png)"
   ]
  },
  {
   "cell_type": "code",
   "execution_count": null,
   "metadata": {},
   "outputs": [],
   "source": [
    "def load_data_fashion_mnist(batch_size, resize=None, root=\"E:/Data/MXNet/fashion_mnist\"):\n",
    "    \"\"\"download the fashion mnist dataest and then load into memory\"\"\"\n",
    "    def transform_mnist(data, label):\n",
    "        # transform a batch of examples\n",
    "        if resize:\n",
    "            n = data.shape[0]\n",
    "            new_data = nd.zeros((n, resize, resize, data.shape[3]))\n",
    "            for i in range(n):\n",
    "                new_data[i] = image.imresize(data[i], resize, resize)\n",
    "            data = new_data\n",
    "        # change data from batch x height x weight x channel to batch x channel x height x weight\n",
    "        return nd.transpose(data.astype('float32'), (0,3,1,2))/255, label.astype('float32')\n",
    "    mnist_train = gluon.data.vision.FashionMNIST(root=root, train=True, transform=transform_mnist)\n",
    "    mnist_test = gluon.data.vision.FashionMNIST(root=root, train=False, transform=transform_mnist)\n",
    "    train_data = DataLoader(mnist_train, batch_size, shuffle=True)\n",
    "    test_data = DataLoader(mnist_test, batch_size, shuffle=False)\n",
    "    return (train_data, test_data)"
   ]
  }
 ],
 "metadata": {
  "kernelspec": {
   "display_name": "Python 3",
   "language": "python",
   "name": "python3"
  },
  "language_info": {
   "codemirror_mode": {
    "name": "ipython",
    "version": 3
   },
   "file_extension": ".py",
   "mimetype": "text/x-python",
   "name": "python",
   "nbconvert_exporter": "python",
   "pygments_lexer": "ipython3",
   "version": "3.6.3"
  },
  "latex_envs": {
   "LaTeX_envs_menu_present": true,
   "autoclose": false,
   "autocomplete": true,
   "bibliofile": "biblio.bib",
   "cite_by": "apalike",
   "current_citInitial": 1,
   "eqLabelWithNumbers": true,
   "eqNumInitial": 1,
   "hotkeys": {
    "equation": "Ctrl-E",
    "itemize": "Ctrl-I"
   },
   "labels_anchors": false,
   "latex_user_defs": false,
   "report_style_numbering": false,
   "user_envs_cfg": false
  },
  "nbTranslate": {
   "displayLangs": [
    "*"
   ],
   "hotkey": "alt-t",
   "langInMainMenu": true,
   "sourceLang": "en",
   "targetLang": "fr",
   "useGoogleTranslate": true
  },
  "toc": {
   "nav_menu": {},
   "number_sections": true,
   "sideBar": true,
   "skip_h1_title": false,
   "title_cell": "Table of Contents",
   "title_sidebar": "Contents",
   "toc_cell": false,
   "toc_position": {},
   "toc_section_display": true,
   "toc_window_display": true
  },
  "varInspector": {
   "cols": {
    "lenName": 16,
    "lenType": 16,
    "lenVar": 40
   },
   "kernels_config": {
    "python": {
     "delete_cmd_postfix": "",
     "delete_cmd_prefix": "del ",
     "library": "var_list.py",
     "varRefreshCmd": "print(var_dic_list())"
    },
    "r": {
     "delete_cmd_postfix": ") ",
     "delete_cmd_prefix": "rm(",
     "library": "var_list.r",
     "varRefreshCmd": "cat(var_dic_list()) "
    }
   },
   "types_to_exclude": [
    "module",
    "function",
    "builtin_function_or_method",
    "instance",
    "_Feature"
   ],
   "window_display": false
  }
 },
 "nbformat": 4,
 "nbformat_minor": 2
}
